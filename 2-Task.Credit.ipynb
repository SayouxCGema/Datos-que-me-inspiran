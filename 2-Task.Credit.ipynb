{
 "cells": [
  {
   "cell_type": "markdown",
   "id": "9b1c20a5",
   "metadata": {},
   "source": [
    "   ## Introducción análisis clientes Credit One"
   ]
  },
  {
   "cell_type": "markdown",
   "id": "ad902a38",
   "metadata": {},
   "source": [
    "En el último año la compañia Credit One ha visto aumentar el número de clientes que han dejado de pagar los préstamos que han obtenido de varios socios.\n",
    "\n",
    "La intención con este rápido análisis, es intentar determinar en base a los datos, aquellos clientes que pueden en mayor o menor modo, ser un perfil con tendencia a default o no default."
   ]
  },
  {
   "cell_type": "code",
   "execution_count": 1,
   "id": "764fab35",
   "metadata": {},
   "outputs": [],
   "source": [
    "import pandas as pd\n",
    "import matplotlib.pyplot as plt\n",
    "import numpy as np\n",
    "import seaborn as sns\n",
    "import pandas_profiling\n",
    "from sqlalchemy import create_engine\n",
    "import pymysql\n",
    "from sqlalchemy import create_engine"
   ]
  },
  {
   "cell_type": "code",
   "execution_count": 2,
   "id": "40a4c388",
   "metadata": {},
   "outputs": [],
   "source": [
    "# Solicitamos la conexión a la base datos de My Sql\n",
    "\n",
    "connection = pymysql.connect(host='data-analytics-2018.cbrosir2cswx.us-east-1.rds.amazonaws.com',\n",
    "user='deepAnalytics',\n",
    "password='Sqltask1234!',\n",
    "database='Credit',\n",
    "charset='utf8mb4',\n",
    "cursorclass=pymysql.cursors.DictCursor)"
   ]
  },
  {
   "cell_type": "code",
   "execution_count": 4,
   "id": "3d3cd319",
   "metadata": {},
   "outputs": [],
   "source": [
    "df= pd.read_sql('SELECT* FROM credit', con= connection)"
   ]
  },
  {
   "cell_type": "code",
   "execution_count": 5,
   "id": "5906026e",
   "metadata": {},
   "outputs": [
    {
     "data": {
      "text/html": [
       "<div>\n",
       "<style scoped>\n",
       "    .dataframe tbody tr th:only-of-type {\n",
       "        vertical-align: middle;\n",
       "    }\n",
       "\n",
       "    .dataframe tbody tr th {\n",
       "        vertical-align: top;\n",
       "    }\n",
       "\n",
       "    .dataframe thead th {\n",
       "        text-align: right;\n",
       "    }\n",
       "</style>\n",
       "<table border=\"1\" class=\"dataframe\">\n",
       "  <thead>\n",
       "    <tr style=\"text-align: right;\">\n",
       "      <th></th>\n",
       "      <th>X1</th>\n",
       "      <th>X2</th>\n",
       "      <th>X3</th>\n",
       "      <th>X4</th>\n",
       "      <th>X5</th>\n",
       "      <th>X6</th>\n",
       "      <th>X7</th>\n",
       "      <th>X8</th>\n",
       "      <th>X9</th>\n",
       "      <th>X10</th>\n",
       "      <th>...</th>\n",
       "      <th>X15</th>\n",
       "      <th>X16</th>\n",
       "      <th>X17</th>\n",
       "      <th>X18</th>\n",
       "      <th>X19</th>\n",
       "      <th>X20</th>\n",
       "      <th>X21</th>\n",
       "      <th>X22</th>\n",
       "      <th>X23</th>\n",
       "      <th>Y</th>\n",
       "    </tr>\n",
       "  </thead>\n",
       "  <tbody>\n",
       "    <tr>\n",
       "      <th>0</th>\n",
       "      <td>LIMIT_BAL</td>\n",
       "      <td>SEX</td>\n",
       "      <td>EDUCATION</td>\n",
       "      <td>MARRIAGE</td>\n",
       "      <td>AGE</td>\n",
       "      <td>PAY_0</td>\n",
       "      <td>PAY_2</td>\n",
       "      <td>PAY_3</td>\n",
       "      <td>PAY_4</td>\n",
       "      <td>PAY_5</td>\n",
       "      <td>...</td>\n",
       "      <td>BILL_AMT4</td>\n",
       "      <td>BILL_AMT5</td>\n",
       "      <td>BILL_AMT6</td>\n",
       "      <td>PAY_AMT1</td>\n",
       "      <td>PAY_AMT2</td>\n",
       "      <td>PAY_AMT3</td>\n",
       "      <td>PAY_AMT4</td>\n",
       "      <td>PAY_AMT5</td>\n",
       "      <td>PAY_AMT6</td>\n",
       "      <td>default payment next month</td>\n",
       "    </tr>\n",
       "    <tr>\n",
       "      <th>1</th>\n",
       "      <td>20000</td>\n",
       "      <td>female</td>\n",
       "      <td>university</td>\n",
       "      <td>1</td>\n",
       "      <td>24</td>\n",
       "      <td>2</td>\n",
       "      <td>2</td>\n",
       "      <td>-1</td>\n",
       "      <td>-1</td>\n",
       "      <td>-2</td>\n",
       "      <td>...</td>\n",
       "      <td>0</td>\n",
       "      <td>0</td>\n",
       "      <td>0</td>\n",
       "      <td>0</td>\n",
       "      <td>689</td>\n",
       "      <td>0</td>\n",
       "      <td>0</td>\n",
       "      <td>0</td>\n",
       "      <td>0</td>\n",
       "      <td>default</td>\n",
       "    </tr>\n",
       "    <tr>\n",
       "      <th>2</th>\n",
       "      <td>120000</td>\n",
       "      <td>female</td>\n",
       "      <td>university</td>\n",
       "      <td>2</td>\n",
       "      <td>26</td>\n",
       "      <td>-1</td>\n",
       "      <td>2</td>\n",
       "      <td>0</td>\n",
       "      <td>0</td>\n",
       "      <td>0</td>\n",
       "      <td>...</td>\n",
       "      <td>3272</td>\n",
       "      <td>3455</td>\n",
       "      <td>3261</td>\n",
       "      <td>0</td>\n",
       "      <td>1000</td>\n",
       "      <td>1000</td>\n",
       "      <td>1000</td>\n",
       "      <td>0</td>\n",
       "      <td>2000</td>\n",
       "      <td>default</td>\n",
       "    </tr>\n",
       "    <tr>\n",
       "      <th>3</th>\n",
       "      <td>90000</td>\n",
       "      <td>female</td>\n",
       "      <td>university</td>\n",
       "      <td>2</td>\n",
       "      <td>34</td>\n",
       "      <td>0</td>\n",
       "      <td>0</td>\n",
       "      <td>0</td>\n",
       "      <td>0</td>\n",
       "      <td>0</td>\n",
       "      <td>...</td>\n",
       "      <td>14331</td>\n",
       "      <td>14948</td>\n",
       "      <td>15549</td>\n",
       "      <td>1518</td>\n",
       "      <td>1500</td>\n",
       "      <td>1000</td>\n",
       "      <td>1000</td>\n",
       "      <td>1000</td>\n",
       "      <td>5000</td>\n",
       "      <td>not default</td>\n",
       "    </tr>\n",
       "    <tr>\n",
       "      <th>4</th>\n",
       "      <td>50000</td>\n",
       "      <td>female</td>\n",
       "      <td>university</td>\n",
       "      <td>1</td>\n",
       "      <td>37</td>\n",
       "      <td>0</td>\n",
       "      <td>0</td>\n",
       "      <td>0</td>\n",
       "      <td>0</td>\n",
       "      <td>0</td>\n",
       "      <td>...</td>\n",
       "      <td>28314</td>\n",
       "      <td>28959</td>\n",
       "      <td>29547</td>\n",
       "      <td>2000</td>\n",
       "      <td>2019</td>\n",
       "      <td>1200</td>\n",
       "      <td>1100</td>\n",
       "      <td>1069</td>\n",
       "      <td>1000</td>\n",
       "      <td>not default</td>\n",
       "    </tr>\n",
       "  </tbody>\n",
       "</table>\n",
       "<p>5 rows × 24 columns</p>\n",
       "</div>"
      ],
      "text/plain": [
       "          X1      X2          X3        X4   X5     X6     X7     X8     X9  \\\n",
       "0  LIMIT_BAL     SEX   EDUCATION  MARRIAGE  AGE  PAY_0  PAY_2  PAY_3  PAY_4   \n",
       "1      20000  female  university         1   24      2      2     -1     -1   \n",
       "2     120000  female  university         2   26     -1      2      0      0   \n",
       "3      90000  female  university         2   34      0      0      0      0   \n",
       "4      50000  female  university         1   37      0      0      0      0   \n",
       "\n",
       "     X10  ...        X15        X16        X17       X18       X19       X20  \\\n",
       "0  PAY_5  ...  BILL_AMT4  BILL_AMT5  BILL_AMT6  PAY_AMT1  PAY_AMT2  PAY_AMT3   \n",
       "1     -2  ...          0          0          0         0       689         0   \n",
       "2      0  ...       3272       3455       3261         0      1000      1000   \n",
       "3      0  ...      14331      14948      15549      1518      1500      1000   \n",
       "4      0  ...      28314      28959      29547      2000      2019      1200   \n",
       "\n",
       "        X21       X22       X23                           Y  \n",
       "0  PAY_AMT4  PAY_AMT5  PAY_AMT6  default payment next month  \n",
       "1         0         0         0                     default  \n",
       "2      1000         0      2000                     default  \n",
       "3      1000      1000      5000                 not default  \n",
       "4      1100      1069      1000                 not default  \n",
       "\n",
       "[5 rows x 24 columns]"
      ]
     },
     "execution_count": 5,
     "metadata": {},
     "output_type": "execute_result"
    }
   ],
   "source": [
    "df.head()"
   ]
  },
  {
   "cell_type": "code",
   "execution_count": 6,
   "id": "412d1890",
   "metadata": {},
   "outputs": [
    {
     "data": {
      "text/plain": [
       "Index(['X1', 'X2', 'X3', 'X4', 'X5', 'X6', 'X7', 'X8', 'X9', 'X10', 'X11',\n",
       "       'X12', 'X13', 'X14', 'X15', 'X16', 'X17', 'X18', 'X19', 'X20', 'X21',\n",
       "       'X22', 'X23', 'Y'],\n",
       "      dtype='object')"
      ]
     },
     "execution_count": 6,
     "metadata": {},
     "output_type": "execute_result"
    }
   ],
   "source": [
    "# Quiero visualizar el nombre de las columnas\n",
    "\n",
    "df.columns"
   ]
  },
  {
   "cell_type": "code",
   "execution_count": 7,
   "id": "a77e1afb",
   "metadata": {},
   "outputs": [],
   "source": [
    "# Creo una variable, con los nuevos nombres que asignaré a las columnas.\n",
    "\n",
    "name=['limit_bal','sex','education','marriage','age','pay_0','pay_2','pay_3','pay_4','pay_5','pay_6','bill_amt1','bill_amt2','bill_amt3','bill_amt4','bill_amt5','bill_amt6','pay_amt1','pay_amt2','pay_amt3','pay_amt4','pay_amt5','pay_amt6','default']"
   ]
  },
  {
   "cell_type": "code",
   "execution_count": 8,
   "id": "8f9ceaa9",
   "metadata": {},
   "outputs": [],
   "source": [
    "df.columns= name"
   ]
  },
  {
   "cell_type": "code",
   "execution_count": 9,
   "id": "fbc7292d",
   "metadata": {},
   "outputs": [
    {
     "data": {
      "text/plain": [
       "Index(['limit_bal', 'sex', 'education', 'marriage', 'age', 'pay_0', 'pay_2',\n",
       "       'pay_3', 'pay_4', 'pay_5', 'pay_6', 'bill_amt1', 'bill_amt2',\n",
       "       'bill_amt3', 'bill_amt4', 'bill_amt5', 'bill_amt6', 'pay_amt1',\n",
       "       'pay_amt2', 'pay_amt3', 'pay_amt4', 'pay_amt5', 'pay_amt6', 'default'],\n",
       "      dtype='object')"
      ]
     },
     "execution_count": 9,
     "metadata": {},
     "output_type": "execute_result"
    }
   ],
   "source": [
    "df.columns"
   ]
  },
  {
   "cell_type": "code",
   "execution_count": 13,
   "id": "1600ec60",
   "metadata": {},
   "outputs": [
    {
     "data": {
      "text/html": [
       "<div>\n",
       "<style scoped>\n",
       "    .dataframe tbody tr th:only-of-type {\n",
       "        vertical-align: middle;\n",
       "    }\n",
       "\n",
       "    .dataframe tbody tr th {\n",
       "        vertical-align: top;\n",
       "    }\n",
       "\n",
       "    .dataframe thead th {\n",
       "        text-align: right;\n",
       "    }\n",
       "</style>\n",
       "<table border=\"1\" class=\"dataframe\">\n",
       "  <thead>\n",
       "    <tr style=\"text-align: right;\">\n",
       "      <th></th>\n",
       "      <th>limit_bal</th>\n",
       "      <th>sex</th>\n",
       "      <th>education</th>\n",
       "      <th>marriage</th>\n",
       "      <th>age</th>\n",
       "      <th>pay_0</th>\n",
       "      <th>pay_2</th>\n",
       "      <th>pay_3</th>\n",
       "      <th>pay_4</th>\n",
       "      <th>pay_5</th>\n",
       "      <th>...</th>\n",
       "      <th>bill_amt4</th>\n",
       "      <th>bill_amt5</th>\n",
       "      <th>bill_amt6</th>\n",
       "      <th>pay_amt1</th>\n",
       "      <th>pay_amt2</th>\n",
       "      <th>pay_amt3</th>\n",
       "      <th>pay_amt4</th>\n",
       "      <th>pay_amt5</th>\n",
       "      <th>pay_amt6</th>\n",
       "      <th>default</th>\n",
       "    </tr>\n",
       "  </thead>\n",
       "  <tbody>\n",
       "    <tr>\n",
       "      <th>0</th>\n",
       "      <td>LIMIT_BAL</td>\n",
       "      <td>SEX</td>\n",
       "      <td>EDUCATION</td>\n",
       "      <td>MARRIAGE</td>\n",
       "      <td>AGE</td>\n",
       "      <td>PAY_0</td>\n",
       "      <td>PAY_2</td>\n",
       "      <td>PAY_3</td>\n",
       "      <td>PAY_4</td>\n",
       "      <td>PAY_5</td>\n",
       "      <td>...</td>\n",
       "      <td>BILL_AMT4</td>\n",
       "      <td>BILL_AMT5</td>\n",
       "      <td>BILL_AMT6</td>\n",
       "      <td>PAY_AMT1</td>\n",
       "      <td>PAY_AMT2</td>\n",
       "      <td>PAY_AMT3</td>\n",
       "      <td>PAY_AMT4</td>\n",
       "      <td>PAY_AMT5</td>\n",
       "      <td>PAY_AMT6</td>\n",
       "      <td>default payment next month</td>\n",
       "    </tr>\n",
       "    <tr>\n",
       "      <th>2398</th>\n",
       "      <td>LIMIT_BAL</td>\n",
       "      <td>SEX</td>\n",
       "      <td>EDUCATION</td>\n",
       "      <td>MARRIAGE</td>\n",
       "      <td>AGE</td>\n",
       "      <td>PAY_0</td>\n",
       "      <td>PAY_2</td>\n",
       "      <td>PAY_3</td>\n",
       "      <td>PAY_4</td>\n",
       "      <td>PAY_5</td>\n",
       "      <td>...</td>\n",
       "      <td>BILL_AMT4</td>\n",
       "      <td>BILL_AMT5</td>\n",
       "      <td>BILL_AMT6</td>\n",
       "      <td>PAY_AMT1</td>\n",
       "      <td>PAY_AMT2</td>\n",
       "      <td>PAY_AMT3</td>\n",
       "      <td>PAY_AMT4</td>\n",
       "      <td>PAY_AMT5</td>\n",
       "      <td>PAY_AMT6</td>\n",
       "      <td>default payment next month</td>\n",
       "    </tr>\n",
       "  </tbody>\n",
       "</table>\n",
       "<p>2 rows × 24 columns</p>\n",
       "</div>"
      ],
      "text/plain": [
       "      limit_bal  sex  education  marriage  age  pay_0  pay_2  pay_3  pay_4  \\\n",
       "0     LIMIT_BAL  SEX  EDUCATION  MARRIAGE  AGE  PAY_0  PAY_2  PAY_3  PAY_4   \n",
       "2398  LIMIT_BAL  SEX  EDUCATION  MARRIAGE  AGE  PAY_0  PAY_2  PAY_3  PAY_4   \n",
       "\n",
       "      pay_5  ...  bill_amt4  bill_amt5  bill_amt6  pay_amt1  pay_amt2  \\\n",
       "0     PAY_5  ...  BILL_AMT4  BILL_AMT5  BILL_AMT6  PAY_AMT1  PAY_AMT2   \n",
       "2398  PAY_5  ...  BILL_AMT4  BILL_AMT5  BILL_AMT6  PAY_AMT1  PAY_AMT2   \n",
       "\n",
       "      pay_amt3  pay_amt4  pay_amt5  pay_amt6                     default  \n",
       "0     PAY_AMT3  PAY_AMT4  PAY_AMT5  PAY_AMT6  default payment next month  \n",
       "2398  PAY_AMT3  PAY_AMT4  PAY_AMT5  PAY_AMT6  default payment next month  \n",
       "\n",
       "[2 rows x 24 columns]"
      ]
     },
     "execution_count": 13,
     "metadata": {},
     "output_type": "execute_result"
    }
   ],
   "source": [
    "# Consulto los valores de la columna SEX\n",
    "df[(df['sex']=='SEX')]"
   ]
  },
  {
   "cell_type": "code",
   "execution_count": 15,
   "id": "e3e83fef",
   "metadata": {
    "collapsed": true
   },
   "outputs": [
    {
     "ename": "KeyError",
     "evalue": "'[0, 2398] not found in axis'",
     "output_type": "error",
     "traceback": [
      "\u001b[1;31m---------------------------------------------------------------------------\u001b[0m",
      "\u001b[1;31mKeyError\u001b[0m                                  Traceback (most recent call last)",
      "\u001b[1;32m~\\AppData\\Local\\Temp\\ipykernel_24200\\2768844414.py\u001b[0m in \u001b[0;36m<module>\u001b[1;34m\u001b[0m\n\u001b[0;32m      1\u001b[0m \u001b[1;31m# Voy a eliminar las filas que no necesito en la tabla.\u001b[0m\u001b[1;33m\u001b[0m\u001b[1;33m\u001b[0m\u001b[0m\n\u001b[1;32m----> 2\u001b[1;33m \u001b[0mdf\u001b[0m\u001b[1;33m=\u001b[0m \u001b[0mdf\u001b[0m\u001b[1;33m.\u001b[0m\u001b[0mdrop\u001b[0m\u001b[1;33m(\u001b[0m\u001b[1;33m[\u001b[0m\u001b[1;36m0\u001b[0m\u001b[1;33m,\u001b[0m\u001b[1;36m2398\u001b[0m\u001b[1;33m]\u001b[0m\u001b[1;33m)\u001b[0m\u001b[1;33m\u001b[0m\u001b[1;33m\u001b[0m\u001b[0m\n\u001b[0m",
      "\u001b[1;32m~\\anaconda3\\lib\\site-packages\\pandas\\util\\_decorators.py\u001b[0m in \u001b[0;36mwrapper\u001b[1;34m(*args, **kwargs)\u001b[0m\n\u001b[0;32m    309\u001b[0m                     \u001b[0mstacklevel\u001b[0m\u001b[1;33m=\u001b[0m\u001b[0mstacklevel\u001b[0m\u001b[1;33m,\u001b[0m\u001b[1;33m\u001b[0m\u001b[1;33m\u001b[0m\u001b[0m\n\u001b[0;32m    310\u001b[0m                 )\n\u001b[1;32m--> 311\u001b[1;33m             \u001b[1;32mreturn\u001b[0m \u001b[0mfunc\u001b[0m\u001b[1;33m(\u001b[0m\u001b[1;33m*\u001b[0m\u001b[0margs\u001b[0m\u001b[1;33m,\u001b[0m \u001b[1;33m**\u001b[0m\u001b[0mkwargs\u001b[0m\u001b[1;33m)\u001b[0m\u001b[1;33m\u001b[0m\u001b[1;33m\u001b[0m\u001b[0m\n\u001b[0m\u001b[0;32m    312\u001b[0m \u001b[1;33m\u001b[0m\u001b[0m\n\u001b[0;32m    313\u001b[0m         \u001b[1;32mreturn\u001b[0m \u001b[0mwrapper\u001b[0m\u001b[1;33m\u001b[0m\u001b[1;33m\u001b[0m\u001b[0m\n",
      "\u001b[1;32m~\\anaconda3\\lib\\site-packages\\pandas\\core\\frame.py\u001b[0m in \u001b[0;36mdrop\u001b[1;34m(self, labels, axis, index, columns, level, inplace, errors)\u001b[0m\n\u001b[0;32m   4955\u001b[0m                 \u001b[0mweight\u001b[0m  \u001b[1;36m1.0\u001b[0m     \u001b[1;36m0.8\u001b[0m\u001b[1;33m\u001b[0m\u001b[1;33m\u001b[0m\u001b[0m\n\u001b[0;32m   4956\u001b[0m         \"\"\"\n\u001b[1;32m-> 4957\u001b[1;33m         return super().drop(\n\u001b[0m\u001b[0;32m   4958\u001b[0m             \u001b[0mlabels\u001b[0m\u001b[1;33m=\u001b[0m\u001b[0mlabels\u001b[0m\u001b[1;33m,\u001b[0m\u001b[1;33m\u001b[0m\u001b[1;33m\u001b[0m\u001b[0m\n\u001b[0;32m   4959\u001b[0m             \u001b[0maxis\u001b[0m\u001b[1;33m=\u001b[0m\u001b[0maxis\u001b[0m\u001b[1;33m,\u001b[0m\u001b[1;33m\u001b[0m\u001b[1;33m\u001b[0m\u001b[0m\n",
      "\u001b[1;32m~\\anaconda3\\lib\\site-packages\\pandas\\core\\generic.py\u001b[0m in \u001b[0;36mdrop\u001b[1;34m(self, labels, axis, index, columns, level, inplace, errors)\u001b[0m\n\u001b[0;32m   4265\u001b[0m         \u001b[1;32mfor\u001b[0m \u001b[0maxis\u001b[0m\u001b[1;33m,\u001b[0m \u001b[0mlabels\u001b[0m \u001b[1;32min\u001b[0m \u001b[0maxes\u001b[0m\u001b[1;33m.\u001b[0m\u001b[0mitems\u001b[0m\u001b[1;33m(\u001b[0m\u001b[1;33m)\u001b[0m\u001b[1;33m:\u001b[0m\u001b[1;33m\u001b[0m\u001b[1;33m\u001b[0m\u001b[0m\n\u001b[0;32m   4266\u001b[0m             \u001b[1;32mif\u001b[0m \u001b[0mlabels\u001b[0m \u001b[1;32mis\u001b[0m \u001b[1;32mnot\u001b[0m \u001b[1;32mNone\u001b[0m\u001b[1;33m:\u001b[0m\u001b[1;33m\u001b[0m\u001b[1;33m\u001b[0m\u001b[0m\n\u001b[1;32m-> 4267\u001b[1;33m                 \u001b[0mobj\u001b[0m \u001b[1;33m=\u001b[0m \u001b[0mobj\u001b[0m\u001b[1;33m.\u001b[0m\u001b[0m_drop_axis\u001b[0m\u001b[1;33m(\u001b[0m\u001b[0mlabels\u001b[0m\u001b[1;33m,\u001b[0m \u001b[0maxis\u001b[0m\u001b[1;33m,\u001b[0m \u001b[0mlevel\u001b[0m\u001b[1;33m=\u001b[0m\u001b[0mlevel\u001b[0m\u001b[1;33m,\u001b[0m \u001b[0merrors\u001b[0m\u001b[1;33m=\u001b[0m\u001b[0merrors\u001b[0m\u001b[1;33m)\u001b[0m\u001b[1;33m\u001b[0m\u001b[1;33m\u001b[0m\u001b[0m\n\u001b[0m\u001b[0;32m   4268\u001b[0m \u001b[1;33m\u001b[0m\u001b[0m\n\u001b[0;32m   4269\u001b[0m         \u001b[1;32mif\u001b[0m \u001b[0minplace\u001b[0m\u001b[1;33m:\u001b[0m\u001b[1;33m\u001b[0m\u001b[1;33m\u001b[0m\u001b[0m\n",
      "\u001b[1;32m~\\anaconda3\\lib\\site-packages\\pandas\\core\\generic.py\u001b[0m in \u001b[0;36m_drop_axis\u001b[1;34m(self, labels, axis, level, errors, consolidate, only_slice)\u001b[0m\n\u001b[0;32m   4309\u001b[0m                 \u001b[0mnew_axis\u001b[0m \u001b[1;33m=\u001b[0m \u001b[0maxis\u001b[0m\u001b[1;33m.\u001b[0m\u001b[0mdrop\u001b[0m\u001b[1;33m(\u001b[0m\u001b[0mlabels\u001b[0m\u001b[1;33m,\u001b[0m \u001b[0mlevel\u001b[0m\u001b[1;33m=\u001b[0m\u001b[0mlevel\u001b[0m\u001b[1;33m,\u001b[0m \u001b[0merrors\u001b[0m\u001b[1;33m=\u001b[0m\u001b[0merrors\u001b[0m\u001b[1;33m)\u001b[0m\u001b[1;33m\u001b[0m\u001b[1;33m\u001b[0m\u001b[0m\n\u001b[0;32m   4310\u001b[0m             \u001b[1;32melse\u001b[0m\u001b[1;33m:\u001b[0m\u001b[1;33m\u001b[0m\u001b[1;33m\u001b[0m\u001b[0m\n\u001b[1;32m-> 4311\u001b[1;33m                 \u001b[0mnew_axis\u001b[0m \u001b[1;33m=\u001b[0m \u001b[0maxis\u001b[0m\u001b[1;33m.\u001b[0m\u001b[0mdrop\u001b[0m\u001b[1;33m(\u001b[0m\u001b[0mlabels\u001b[0m\u001b[1;33m,\u001b[0m \u001b[0merrors\u001b[0m\u001b[1;33m=\u001b[0m\u001b[0merrors\u001b[0m\u001b[1;33m)\u001b[0m\u001b[1;33m\u001b[0m\u001b[1;33m\u001b[0m\u001b[0m\n\u001b[0m\u001b[0;32m   4312\u001b[0m             \u001b[0mindexer\u001b[0m \u001b[1;33m=\u001b[0m \u001b[0maxis\u001b[0m\u001b[1;33m.\u001b[0m\u001b[0mget_indexer\u001b[0m\u001b[1;33m(\u001b[0m\u001b[0mnew_axis\u001b[0m\u001b[1;33m)\u001b[0m\u001b[1;33m\u001b[0m\u001b[1;33m\u001b[0m\u001b[0m\n\u001b[0;32m   4313\u001b[0m \u001b[1;33m\u001b[0m\u001b[0m\n",
      "\u001b[1;32m~\\anaconda3\\lib\\site-packages\\pandas\\core\\indexes\\base.py\u001b[0m in \u001b[0;36mdrop\u001b[1;34m(self, labels, errors)\u001b[0m\n\u001b[0;32m   6659\u001b[0m         \u001b[1;32mif\u001b[0m \u001b[0mmask\u001b[0m\u001b[1;33m.\u001b[0m\u001b[0many\u001b[0m\u001b[1;33m(\u001b[0m\u001b[1;33m)\u001b[0m\u001b[1;33m:\u001b[0m\u001b[1;33m\u001b[0m\u001b[1;33m\u001b[0m\u001b[0m\n\u001b[0;32m   6660\u001b[0m             \u001b[1;32mif\u001b[0m \u001b[0merrors\u001b[0m \u001b[1;33m!=\u001b[0m \u001b[1;34m\"ignore\"\u001b[0m\u001b[1;33m:\u001b[0m\u001b[1;33m\u001b[0m\u001b[1;33m\u001b[0m\u001b[0m\n\u001b[1;32m-> 6661\u001b[1;33m                 \u001b[1;32mraise\u001b[0m \u001b[0mKeyError\u001b[0m\u001b[1;33m(\u001b[0m\u001b[1;34mf\"{list(labels[mask])} not found in axis\"\u001b[0m\u001b[1;33m)\u001b[0m\u001b[1;33m\u001b[0m\u001b[1;33m\u001b[0m\u001b[0m\n\u001b[0m\u001b[0;32m   6662\u001b[0m             \u001b[0mindexer\u001b[0m \u001b[1;33m=\u001b[0m \u001b[0mindexer\u001b[0m\u001b[1;33m[\u001b[0m\u001b[1;33m~\u001b[0m\u001b[0mmask\u001b[0m\u001b[1;33m]\u001b[0m\u001b[1;33m\u001b[0m\u001b[1;33m\u001b[0m\u001b[0m\n\u001b[0;32m   6663\u001b[0m         \u001b[1;32mreturn\u001b[0m \u001b[0mself\u001b[0m\u001b[1;33m.\u001b[0m\u001b[0mdelete\u001b[0m\u001b[1;33m(\u001b[0m\u001b[0mindexer\u001b[0m\u001b[1;33m)\u001b[0m\u001b[1;33m\u001b[0m\u001b[1;33m\u001b[0m\u001b[0m\n",
      "\u001b[1;31mKeyError\u001b[0m: '[0, 2398] not found in axis'"
     ]
    }
   ],
   "source": [
    "# Voy a eliminar las filas que no necesito en la tabla.\n",
    "df= df.drop([0,2398])"
   ]
  },
  {
   "cell_type": "code",
   "execution_count": 16,
   "id": "2146a1fb",
   "metadata": {},
   "outputs": [
    {
     "data": {
      "text/plain": [
       "limit_bal    object\n",
       "sex          object\n",
       "education    object\n",
       "marriage     object\n",
       "age          object\n",
       "pay_0        object\n",
       "pay_2        object\n",
       "pay_3        object\n",
       "pay_4        object\n",
       "pay_5        object\n",
       "pay_6        object\n",
       "bill_amt1    object\n",
       "bill_amt2    object\n",
       "bill_amt3    object\n",
       "bill_amt4    object\n",
       "bill_amt5    object\n",
       "bill_amt6    object\n",
       "pay_amt1     object\n",
       "pay_amt2     object\n",
       "pay_amt3     object\n",
       "pay_amt4     object\n",
       "pay_amt5     object\n",
       "pay_amt6     object\n",
       "default      object\n",
       "dtype: object"
      ]
     },
     "execution_count": 16,
     "metadata": {},
     "output_type": "execute_result"
    }
   ],
   "source": [
    "df.dtypes"
   ]
  },
  {
   "cell_type": "markdown",
   "id": "52b5f426",
   "metadata": {},
   "source": [
    "Observo que todos los datos, están como objetos. Quiero que sean datos numéricos, así que vamos a corregir esto."
   ]
  },
  {
   "cell_type": "code",
   "execution_count": 18,
   "id": "32a1fb80",
   "metadata": {},
   "outputs": [],
   "source": [
    "df['limit_bal']= pd.to_numeric(df['limit_bal'])"
   ]
  },
  {
   "cell_type": "code",
   "execution_count": 19,
   "id": "2d856bba",
   "metadata": {},
   "outputs": [],
   "source": [
    "df['bill_amt1']= pd.to_numeric(df['bill_amt1'])"
   ]
  },
  {
   "cell_type": "code",
   "execution_count": 20,
   "id": "e0874d5b",
   "metadata": {},
   "outputs": [],
   "source": [
    "df['bill_amt2']= pd.to_numeric(df['bill_amt2'])"
   ]
  },
  {
   "cell_type": "code",
   "execution_count": 21,
   "id": "ddd48b12",
   "metadata": {},
   "outputs": [],
   "source": [
    "df['bill_amt3']= pd.to_numeric(df['bill_amt3'])"
   ]
  },
  {
   "cell_type": "code",
   "execution_count": 22,
   "id": "780bd993",
   "metadata": {},
   "outputs": [],
   "source": [
    "df['bill_amt4']= pd.to_numeric(df['bill_amt4'])"
   ]
  },
  {
   "cell_type": "code",
   "execution_count": 23,
   "id": "58948d89",
   "metadata": {},
   "outputs": [],
   "source": [
    "df['bill_amt4']= pd.to_numeric(df['bill_amt4'])"
   ]
  },
  {
   "cell_type": "code",
   "execution_count": 24,
   "id": "b9a03e1b",
   "metadata": {},
   "outputs": [],
   "source": [
    "df['bill_amt5']= pd.to_numeric(df['bill_amt5'])"
   ]
  },
  {
   "cell_type": "code",
   "execution_count": 33,
   "id": "f5ebc24a",
   "metadata": {},
   "outputs": [],
   "source": [
    "df['bill_amt6']= pd.to_numeric(df['bill_amt6'])"
   ]
  },
  {
   "cell_type": "code",
   "execution_count": 25,
   "id": "2d01856f",
   "metadata": {},
   "outputs": [],
   "source": [
    "df['age']= pd.to_numeric(df['age'])"
   ]
  },
  {
   "cell_type": "code",
   "execution_count": 26,
   "id": "055dd848",
   "metadata": {},
   "outputs": [],
   "source": [
    "# La columna default no está como un dato numerico. Vamos a transformarlo.\n",
    "convert = {'default':{'not default':0,'default':1}}"
   ]
  },
  {
   "cell_type": "code",
   "execution_count": 27,
   "id": "b929b4c8",
   "metadata": {},
   "outputs": [],
   "source": [
    "df= df.replace(convert)"
   ]
  },
  {
   "cell_type": "code",
   "execution_count": 28,
   "id": "27591751",
   "metadata": {},
   "outputs": [
    {
     "data": {
      "text/html": [
       "<div>\n",
       "<style scoped>\n",
       "    .dataframe tbody tr th:only-of-type {\n",
       "        vertical-align: middle;\n",
       "    }\n",
       "\n",
       "    .dataframe tbody tr th {\n",
       "        vertical-align: top;\n",
       "    }\n",
       "\n",
       "    .dataframe thead th {\n",
       "        text-align: right;\n",
       "    }\n",
       "</style>\n",
       "<table border=\"1\" class=\"dataframe\">\n",
       "  <thead>\n",
       "    <tr style=\"text-align: right;\">\n",
       "      <th></th>\n",
       "      <th>limit_bal</th>\n",
       "      <th>age</th>\n",
       "      <th>bill_amt1</th>\n",
       "      <th>bill_amt2</th>\n",
       "      <th>bill_amt3</th>\n",
       "      <th>bill_amt4</th>\n",
       "      <th>bill_amt5</th>\n",
       "      <th>default</th>\n",
       "    </tr>\n",
       "  </thead>\n",
       "  <tbody>\n",
       "    <tr>\n",
       "      <th>count</th>\n",
       "      <td>3668.000000</td>\n",
       "      <td>3668.000000</td>\n",
       "      <td>3668.000000</td>\n",
       "      <td>3668.000000</td>\n",
       "      <td>3668.000000</td>\n",
       "      <td>3668.000000</td>\n",
       "      <td>3668.000000</td>\n",
       "      <td>3668.000000</td>\n",
       "    </tr>\n",
       "    <tr>\n",
       "      <th>mean</th>\n",
       "      <td>166284.078517</td>\n",
       "      <td>35.354144</td>\n",
       "      <td>51054.570338</td>\n",
       "      <td>49166.293075</td>\n",
       "      <td>45602.332061</td>\n",
       "      <td>41468.667939</td>\n",
       "      <td>39896.160851</td>\n",
       "      <td>0.216739</td>\n",
       "    </tr>\n",
       "    <tr>\n",
       "      <th>std</th>\n",
       "      <td>129512.155474</td>\n",
       "      <td>9.438171</td>\n",
       "      <td>76373.892061</td>\n",
       "      <td>74703.121154</td>\n",
       "      <td>69402.888549</td>\n",
       "      <td>67774.636553</td>\n",
       "      <td>63815.838564</td>\n",
       "      <td>0.412080</td>\n",
       "    </tr>\n",
       "    <tr>\n",
       "      <th>min</th>\n",
       "      <td>10000.000000</td>\n",
       "      <td>21.000000</td>\n",
       "      <td>-14386.000000</td>\n",
       "      <td>-24704.000000</td>\n",
       "      <td>-9850.000000</td>\n",
       "      <td>-7905.000000</td>\n",
       "      <td>-28335.000000</td>\n",
       "      <td>0.000000</td>\n",
       "    </tr>\n",
       "    <tr>\n",
       "      <th>25%</th>\n",
       "      <td>50000.000000</td>\n",
       "      <td>28.000000</td>\n",
       "      <td>3096.000000</td>\n",
       "      <td>3123.000000</td>\n",
       "      <td>2252.000000</td>\n",
       "      <td>1741.500000</td>\n",
       "      <td>1480.500000</td>\n",
       "      <td>0.000000</td>\n",
       "    </tr>\n",
       "    <tr>\n",
       "      <th>50%</th>\n",
       "      <td>140000.000000</td>\n",
       "      <td>34.000000</td>\n",
       "      <td>21148.000000</td>\n",
       "      <td>20417.000000</td>\n",
       "      <td>19505.000000</td>\n",
       "      <td>17915.000000</td>\n",
       "      <td>17616.000000</td>\n",
       "      <td>0.000000</td>\n",
       "    </tr>\n",
       "    <tr>\n",
       "      <th>75%</th>\n",
       "      <td>230000.000000</td>\n",
       "      <td>41.000000</td>\n",
       "      <td>63638.750000</td>\n",
       "      <td>61162.000000</td>\n",
       "      <td>56272.750000</td>\n",
       "      <td>49324.000000</td>\n",
       "      <td>48449.000000</td>\n",
       "      <td>0.000000</td>\n",
       "    </tr>\n",
       "    <tr>\n",
       "      <th>max</th>\n",
       "      <td>1000000.000000</td>\n",
       "      <td>75.000000</td>\n",
       "      <td>964511.000000</td>\n",
       "      <td>983931.000000</td>\n",
       "      <td>548020.000000</td>\n",
       "      <td>891586.000000</td>\n",
       "      <td>927171.000000</td>\n",
       "      <td>1.000000</td>\n",
       "    </tr>\n",
       "  </tbody>\n",
       "</table>\n",
       "</div>"
      ],
      "text/plain": [
       "            limit_bal          age      bill_amt1      bill_amt2  \\\n",
       "count     3668.000000  3668.000000    3668.000000    3668.000000   \n",
       "mean    166284.078517    35.354144   51054.570338   49166.293075   \n",
       "std     129512.155474     9.438171   76373.892061   74703.121154   \n",
       "min      10000.000000    21.000000  -14386.000000  -24704.000000   \n",
       "25%      50000.000000    28.000000    3096.000000    3123.000000   \n",
       "50%     140000.000000    34.000000   21148.000000   20417.000000   \n",
       "75%     230000.000000    41.000000   63638.750000   61162.000000   \n",
       "max    1000000.000000    75.000000  964511.000000  983931.000000   \n",
       "\n",
       "           bill_amt3      bill_amt4      bill_amt5      default  \n",
       "count    3668.000000    3668.000000    3668.000000  3668.000000  \n",
       "mean    45602.332061   41468.667939   39896.160851     0.216739  \n",
       "std     69402.888549   67774.636553   63815.838564     0.412080  \n",
       "min     -9850.000000   -7905.000000  -28335.000000     0.000000  \n",
       "25%      2252.000000    1741.500000    1480.500000     0.000000  \n",
       "50%     19505.000000   17915.000000   17616.000000     0.000000  \n",
       "75%     56272.750000   49324.000000   48449.000000     0.000000  \n",
       "max    548020.000000  891586.000000  927171.000000     1.000000  "
      ]
     },
     "execution_count": 28,
     "metadata": {},
     "output_type": "execute_result"
    }
   ],
   "source": [
    "# Vamos a consultar el describe ahora con estos datos numéricos.\n",
    "df.describe()"
   ]
  },
  {
   "cell_type": "markdown",
   "id": "e3bd0749",
   "metadata": {},
   "source": [
    "Se observan algunos datos en negativo en el mínimo de los bill_amt, esto es algo que en principio no debería darse. Así que vamos a investigarlo mejor a continuación."
   ]
  },
  {
   "cell_type": "code",
   "execution_count": 35,
   "id": "c153e849",
   "metadata": {},
   "outputs": [
    {
     "data": {
      "text/html": [
       "<div>\n",
       "<style scoped>\n",
       "    .dataframe tbody tr th:only-of-type {\n",
       "        vertical-align: middle;\n",
       "    }\n",
       "\n",
       "    .dataframe tbody tr th {\n",
       "        vertical-align: top;\n",
       "    }\n",
       "\n",
       "    .dataframe thead th {\n",
       "        text-align: right;\n",
       "    }\n",
       "</style>\n",
       "<table border=\"1\" class=\"dataframe\">\n",
       "  <thead>\n",
       "    <tr style=\"text-align: right;\">\n",
       "      <th></th>\n",
       "      <th>bill_amt6</th>\n",
       "      <th>limit_bal</th>\n",
       "    </tr>\n",
       "  </thead>\n",
       "  <tbody>\n",
       "    <tr>\n",
       "      <th>1509</th>\n",
       "      <td>699944</td>\n",
       "      <td>480000</td>\n",
       "    </tr>\n",
       "    <tr>\n",
       "      <th>3317</th>\n",
       "      <td>352257</td>\n",
       "      <td>240000</td>\n",
       "    </tr>\n",
       "    <tr>\n",
       "      <th>919</th>\n",
       "      <td>352257</td>\n",
       "      <td>240000</td>\n",
       "    </tr>\n",
       "    <tr>\n",
       "      <th>222</th>\n",
       "      <td>330121</td>\n",
       "      <td>330000</td>\n",
       "    </tr>\n",
       "    <tr>\n",
       "      <th>2620</th>\n",
       "      <td>330121</td>\n",
       "      <td>330000</td>\n",
       "    </tr>\n",
       "    <tr>\n",
       "      <th>...</th>\n",
       "      <td>...</td>\n",
       "      <td>...</td>\n",
       "    </tr>\n",
       "    <tr>\n",
       "      <th>2692</th>\n",
       "      <td>10182</td>\n",
       "      <td>10000</td>\n",
       "    </tr>\n",
       "    <tr>\n",
       "      <th>294</th>\n",
       "      <td>10182</td>\n",
       "      <td>10000</td>\n",
       "    </tr>\n",
       "    <tr>\n",
       "      <th>1956</th>\n",
       "      <td>10104</td>\n",
       "      <td>10000</td>\n",
       "    </tr>\n",
       "    <tr>\n",
       "      <th>3480</th>\n",
       "      <td>10091</td>\n",
       "      <td>10000</td>\n",
       "    </tr>\n",
       "    <tr>\n",
       "      <th>1082</th>\n",
       "      <td>10091</td>\n",
       "      <td>10000</td>\n",
       "    </tr>\n",
       "  </tbody>\n",
       "</table>\n",
       "<p>96 rows × 2 columns</p>\n",
       "</div>"
      ],
      "text/plain": [
       "      bill_amt6  limit_bal\n",
       "1509     699944     480000\n",
       "3317     352257     240000\n",
       "919      352257     240000\n",
       "222      330121     330000\n",
       "2620     330121     330000\n",
       "...         ...        ...\n",
       "2692      10182      10000\n",
       "294       10182      10000\n",
       "1956      10104      10000\n",
       "3480      10091      10000\n",
       "1082      10091      10000\n",
       "\n",
       "[96 rows x 2 columns]"
      ]
     },
     "execution_count": 35,
     "metadata": {},
     "output_type": "execute_result"
    }
   ],
   "source": [
    "# Consulta de las filas que tienen un bill_amt1 superior al limit_bal disponible (mes de Abril)\n",
    "df[df['bill_amt6']>df['limit_bal']][['bill_amt6','limit_bal']].sort_values(by='bill_amt6',ascending=False)"
   ]
  },
  {
   "cell_type": "code",
   "execution_count": 38,
   "id": "affd3960",
   "metadata": {},
   "outputs": [
    {
     "data": {
      "text/plain": [
       "1        0.0\n",
       "2        2.7\n",
       "3       17.3\n",
       "4       59.1\n",
       "5       38.3\n",
       "        ... \n",
       "3665    98.9\n",
       "3666    45.5\n",
       "3667    16.0\n",
       "3668    14.4\n",
       "3669    99.3\n",
       "Length: 3668, dtype: float64"
      ]
     },
     "execution_count": 38,
     "metadata": {},
     "output_type": "execute_result"
    }
   ],
   "source": [
    "round(df['bill_amt6']/df['limit_bal']*100,1)"
   ]
  },
  {
   "cell_type": "code",
   "execution_count": 39,
   "id": "70f6826d",
   "metadata": {},
   "outputs": [],
   "source": [
    "#Creación de columna con % de clientes de bill_amt6 dividido entre limit_bal.\n",
    "df['bill%6_bal']=round(df['bill_amt6']/df['limit_bal']*100,1)"
   ]
  },
  {
   "cell_type": "code",
   "execution_count": 42,
   "id": "41376c58",
   "metadata": {},
   "outputs": [
    {
     "data": {
      "text/plain": [
       "<seaborn.axisgrid.FacetGrid at 0x1ca485c7670>"
      ]
     },
     "execution_count": 42,
     "metadata": {},
     "output_type": "execute_result"
    },
    {
     "data": {
      "image/png": "[encoded data removed]",
      "text/plain": [
       "<Figure size 560.236x500 with 1 Axes>"
      ]
     },
     "metadata": {},
     "output_type": "display_data"
    }
   ],
   "source": [
    "sns.lmplot(data=df, x='age',y='bill%6_bal',hue='default',fit_reg=False)"
   ]
  },
  {
   "cell_type": "code",
   "execution_count": 43,
   "id": "0ba7b1d7",
   "metadata": {},
   "outputs": [
    {
     "data": {
      "text/plain": [
       "1       19.6\n",
       "2        2.2\n",
       "3       32.5\n",
       "4       94.0\n",
       "5       17.2\n",
       "        ... \n",
       "3665    88.6\n",
       "3666    34.6\n",
       "3667    13.5\n",
       "3668    11.5\n",
       "3669    98.0\n",
       "Length: 3668, dtype: float64"
      ]
     },
     "execution_count": 43,
     "metadata": {},
     "output_type": "execute_result"
    }
   ],
   "source": [
    "round(df['bill_amt1']/df['limit_bal']*100,1)"
   ]
  },
  {
   "cell_type": "code",
   "execution_count": 44,
   "id": "85fcaa98",
   "metadata": {},
   "outputs": [],
   "source": [
    "#Creación de columna con % de clientes de bill_amt6 dividido entre limit_bal.\n",
    "df['bill%1_bal']=round(df['bill_amt1']/df['limit_bal']*100,1)"
   ]
  },
  {
   "cell_type": "code",
   "execution_count": 45,
   "id": "6522bf6b",
   "metadata": {},
   "outputs": [
    {
     "data": {
      "text/plain": [
       "<seaborn.axisgrid.FacetGrid at 0x1ca4886bf10>"
      ]
     },
     "execution_count": 45,
     "metadata": {},
     "output_type": "execute_result"
    },
    {
     "data": {
      "image/png": "[encoded data removed]",
      "text/plain": [
       "<Figure size 560.236x500 with 1 Axes>"
      ]
     },
     "metadata": {},
     "output_type": "display_data"
    }
   ],
   "source": [
    "sns.lmplot(data=df, x='age',y='bill%1_bal',hue='default',fit_reg=False)"
   ]
  },
  {
   "cell_type": "markdown",
   "id": "e05ea556",
   "metadata": {},
   "source": [
    " Se observa que en el primer mes de bill (6), los clientes que están teniendo un % más alto del 100, son aquellos que están en el grupo de edad 50. En cambio, ya cuando estamos en el último mes de pagos, el grupo de edad varía desde los 30 hasta los 50.\n",
    " "
   ]
  },
  {
   "cell_type": "markdown",
   "id": "f450f531",
   "metadata": {},
   "source": [
    "### Grado de default según el nivel de estudios.\n",
    "\n",
    "A continuación vamos a visualizar todos los datos que tenemos sobre el nivel de estudios de los clientes."
   ]
  },
  {
   "cell_type": "code",
   "execution_count": 46,
   "id": "3365b70c",
   "metadata": {},
   "outputs": [
    {
     "data": {
      "text/plain": [
       "university         1644\n",
       "graduate school    1401\n",
       "high school         596\n",
       "other                27\n",
       "Name: education, dtype: int64"
      ]
     },
     "execution_count": 46,
     "metadata": {},
     "output_type": "execute_result"
    }
   ],
   "source": [
    "# Consulta de los valores totales de la columna education\n",
    "\n",
    "df['education'].value_counts()"
   ]
  },
  {
   "cell_type": "code",
   "execution_count": 47,
   "id": "0b03a3c9",
   "metadata": {},
   "outputs": [
    {
     "name": "stdout",
     "output_type": "stream",
     "text": [
      "University_default: 23 %\n",
      "University_Notdefault: 77 %\n",
      "Graduate_default: 19 %\n",
      "Graduate_Notdefault: 81 %\n",
      "High_default: 26 %\n",
      "High_Notdefault: 74 %\n",
      "Other_default: 7 %\n",
      "Other_Notdefault: 93 %\n"
     ]
    }
   ],
   "source": [
    "print('University_default:',(round(100*len(df[(df['education']=='university')&(df['default']==1)])/1644)),'%')\n",
    "print('University_Notdefault:',(round(100*len(df[(df['education']=='university')&(df['default']==0)])/1644)),'%')\n",
    "print('Graduate_default:',(round(100*len(df[(df['education']=='graduate school')&(df['default']==1)])/1401)),'%')\n",
    "print('Graduate_Notdefault:',(round(100*len(df[(df['education']=='graduate school')&(df['default']==0)])/1401)),'%')\n",
    "print('High_default:',(round(100*len(df[(df['education']=='high school')&(df['default']==1)])/596)),'%')\n",
    "print('High_Notdefault:',(round(100*len(df[(df['education']=='high school')&(df['default']==0)])/596)),'%')\n",
    "print('Other_default:',(round(100*len(df[(df['education']=='other')&(df['default']==1)])/27)),'%')\n",
    "print('Other_Notdefault:',(round(100*len(df[(df['education']=='other')&(df['default']==0)])/27)),'%')"
   ]
  },
  {
   "cell_type": "markdown",
   "id": "08d0bffb",
   "metadata": {},
   "source": [
    "#### Observaciones:\n",
    "- En este caso, se observa que los clientes que tienen estudios de High School, son los que están mostrando un % mayor de default. \n",
    "\n",
    "Vamos a observar esta información más gráficamente."
   ]
  },
  {
   "cell_type": "code",
   "execution_count": 48,
   "id": "257a4412",
   "metadata": {},
   "outputs": [
    {
     "data": {
      "text/plain": [
       "<AxesSubplot:xlabel='default', ylabel='count'>"
      ]
     },
     "execution_count": 48,
     "metadata": {},
     "output_type": "execute_result"
    },
    {
     "data": {
      "image/png": "[encoded data removed]",
      "text/plain": [
       "<Figure size 640x480 with 1 Axes>"
      ]
     },
     "metadata": {},
     "output_type": "display_data"
    }
   ],
   "source": [
    "sns.countplot(data=df, x='default',hue='education')"
   ]
  },
  {
   "cell_type": "markdown",
   "id": "ae97bf27",
   "metadata": {},
   "source": [
    "Observaciones: Vemos que en la gráfica, aparentemente los clientes que cuentan con estudios universitarios, son los que mayor default presentan. No obstante, debemos tener en cuenta que los clientes con estudios universitarios son más, que aquellos con High School."
   ]
  },
  {
   "cell_type": "code",
   "execution_count": 50,
   "id": "d4e374a2",
   "metadata": {},
   "outputs": [],
   "source": [
    "# Creamos una columna nueva con el valor de la edad segmentado por grupos. \n",
    "#Utilizanndo la libreria de pandas y la función cut  pd.cut(df['age'],bins=5, labels=[1,2,3,4,5]\n",
    "\n",
    "df['age_bins'] = pd.cut(df['age'],bins=5, labels=[1,2,3,4,5])"
   ]
  },
  {
   "cell_type": "code",
   "execution_count": 51,
   "id": "5508166e",
   "metadata": {},
   "outputs": [],
   "source": [
    "grupo_veinte= (len(df[(df['age_bins']==1)])) #Creación de variables por grupo de edad.\n",
    "grupo_treinta= (len(df[(df['age_bins']==2)]))\n",
    "grupo_cuarenta= (len(df[(df['age_bins']==3)]))\n",
    "grupo_cinquenta= (len(df[(df['age_bins']==4)]))\n",
    "grupo_mas_sesenta= (len(df[(df['age_bins']==5)]))"
   ]
  },
  {
   "cell_type": "code",
   "execution_count": 52,
   "id": "8cca590c",
   "metadata": {},
   "outputs": [
    {
     "name": "stdout",
     "output_type": "stream",
     "text": [
      "20_Default: 21.24 %\n",
      "20_Not_Default: 78.76 %\n",
      "30_Default: 20.13 %\n",
      "30_Not_Default: 79.87 %\n",
      "40_Default: 22.94 %\n",
      "40_Not_Default: 77.06 %\n",
      "50_Default: 32.48 %\n",
      "50_Not_Default: 67.52 %\n",
      "60mas_Default: 33.33 %\n",
      "60mas_Not_Default: 66.67 %\n"
     ]
    }
   ],
   "source": [
    "print('20_Default:',round(100*len(df[(df['default']==1)&(df['age_bins']==1)])/grupo_veinte,2),'%')\n",
    "print('20_Not_Default:',round(100*len(df[(df['default']==0)&(df['age_bins']==1)])/grupo_veinte,2),'%')\n",
    "print('30_Default:',round(100*len(df[(df['default']==1)&(df['age_bins']==2)])/grupo_treinta,2),'%')\n",
    "print('30_Not_Default:',round(100*len(df[(df['default']==0)&(df['age_bins']==2)])/grupo_treinta,2),'%')\n",
    "print('40_Default:',round(100*len(df[(df['default']==1)&(df['age_bins']==3)])/grupo_cuarenta,2),'%')\n",
    "print('40_Not_Default:',round(100*len(df[(df['default']==0)&(df['age_bins']==3)])/grupo_cuarenta,2),'%')\n",
    "print('50_Default:',round(100*len(df[(df['default']==1)&(df['age_bins']==4)])/grupo_cinquenta,2),'%')\n",
    "print('50_Not_Default:',round(100*len(df[(df['default']==0)&(df['age_bins']==4)])/grupo_cinquenta,2),'%')\n",
    "print('60mas_Default:',round(100*len(df[(df['default']==1)&(df['age_bins']==5)])/grupo_mas_sesenta,2),'%')\n",
    "print('60mas_Not_Default:',round(100*len(df[(df['default']==0)&(df['age_bins']==5)])/grupo_mas_sesenta,2),'%')"
   ]
  },
  {
   "cell_type": "markdown",
   "id": "c481dd25",
   "metadata": {},
   "source": [
    "#### Observaciones:\n",
    "\n",
    "Según el % y los gráficos, aquellos clientes que se encuentran en los grupos:\n",
    "\n",
    "- 20-30: Suelen tener un % de default de 21,24%, en comparación con los clientes que son not_default con un 78,76%.\n",
    "- En cambio, teniendo en cuenta que el grupo de 50-60 y los mayores de 60, aún y siendo pocos en el número de clientes, tienen un % de default de 32,38% (50-60) y un 33,33% (+60)"
   ]
  },
  {
   "cell_type": "markdown",
   "id": "42e7f1d7",
   "metadata": {},
   "source": [
    "### Conclusiones:\n",
    "\n",
    "Se observa que, aunque el dato de mujeres es más elevado, el % en clientes que realizan default es 1% mayor en los hombres.\n",
    "\n",
    "En este caso, se observa que los clientes que tienen estudios de High School, son los que están mostrando un % mayor de default.\n",
    "\n",
    "Podríamos deducir que, los clientes que son hombres, con edades comprendidas entre los 20-30 años,con un nivel de estudios High School, solteros; son los que pueden tener una mayor tendencia en generar default."
   ]
  },
  {
   "cell_type": "code",
   "execution_count": null,
   "id": "c94c8219",
   "metadata": {},
   "outputs": [],
   "source": []
  }
 ],
 "metadata": {
  "kernelspec": {
   "display_name": "Python 3 (ipykernel)",
   "language": "python",
   "name": "python3"
  },
  "language_info": {
   "codemirror_mode": {
    "name": "ipython",
    "version": 3
   },
   "file_extension": ".py",
   "mimetype": "text/x-python",
   "name": "python",
   "nbconvert_exporter": "python",
   "pygments_lexer": "ipython3",
   "version": "3.9.13"
  }
 },
 "nbformat": 4,
 "nbformat_minor": 5
}
